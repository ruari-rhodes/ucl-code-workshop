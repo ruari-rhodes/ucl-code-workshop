{
 "cells": [
  {
   "cell_type": "code",
   "execution_count": 1,
   "metadata": {},
   "outputs": [],
   "source": [
    "# Import the Earth Engine Python Package\n",
    "import ee\n",
    "import numpy as np\n",
    "import pandas as pd\n",
    "\n",
    "# Initialize the Earth Engine object, using the authentication credentials.\n",
    "ee.Initialize()\n",
    "\n",
    "\n"
   ]
  },
  {
   "cell_type": "code",
   "execution_count": 2,
   "metadata": {},
   "outputs": [
    {
     "name": "stdout",
     "output_type": "stream",
     "text": [
      "/anaconda3/bin/python\n"
     ]
    }
   ],
   "source": [
    "import sys\n",
    "print(sys.executable)\n",
    "\n",
    "?ee.batch.Export.table.toDrive"
   ]
  },
  {
   "cell_type": "markdown",
   "metadata": {},
   "source": [
    "### Create imperviousness change function"
   ]
  },
  {
   "cell_type": "code",
   "execution_count": 2,
   "metadata": {},
   "outputs": [],
   "source": [
    "def imperv_change(urban_region):\n",
    "  # Look at change of imperviousness from 2001 to 2011\n",
    "  \n",
    "  nlcd_2001 = ee.Image( 'USGS/NLCD/NLCD2001')\n",
    "  nlcd_2011 = ee.Image( 'USGS/NLCD/NLCD2011')\n",
    "  \n",
    "  # Get imperviousness layer\n",
    "  nlcd_2001_imperv = nlcd_2001.select('impervious').clip( urban_region) \n",
    "  nlcd_2011_imperv = nlcd_2011.select('impervious').clip( urban_region)\n",
    "  \n",
    "  # Can we quantify how much Chicago grew in these 10 years?\n",
    "  imperv_difference = nlcd_2011_imperv.subtract( nlcd_2001_imperv) \n",
    "  \n",
    "  # Lose zero values - they don't interest us right now\n",
    "  imperv_difference_masked = imperv_difference.updateMask( imperv_difference) \n",
    "  \n",
    "  # Find the fraction of pixels in this region that show an increase in impermeability\n",
    "    \n",
    "  # ee.Image.pixelarea multiplies the value of each pixel by its area\n",
    "  # So, setting each pixel value to 1 and multiplying by area gives\n",
    "  # a map of pixel areas of all valid pixels\n",
    "  urban_pixelarea = imperv_difference.gt(-999).multiply( ee.Image.pixelArea()) \n",
    "  \n",
    "  increased_imperv_pixelarea = imperv_difference.gt( 0).multiply( ee.Image.pixelArea()) \n",
    "  \n",
    "  # Reduceregions applies a reducer to all pixels in a region\n",
    "  # In this case, we are getting the sum of all pixel areas\n",
    "  # within each image, and extracting it as an ee.Numeric object\n",
    "  increased_imperv_area = ee.Number(\n",
    "      ee.List(\n",
    "        increased_imperv_pixelarea\n",
    "        .reduceRegions( urban_region, ee.Reducer.sum())\n",
    "        .aggregate_array( 'sum')\n",
    "      ).get(0)\n",
    "    ) \n",
    "  \n",
    "  urban_area =   ee.Number( ee.List(\n",
    "        urban_pixelarea\n",
    "        .reduceRegions( urban_region, ee.Reducer.sum())\n",
    "        .aggregate_array( 'sum')\n",
    "      ).get(0)\n",
    "    ) \n",
    "  \n",
    "  return increased_imperv_area.divide( urban_area)\n",
    "\n"
   ]
  },
  {
   "cell_type": "markdown",
   "metadata": {},
   "source": [
    "### Run the function for a test region"
   ]
  },
  {
   "cell_type": "code",
   "execution_count": 3,
   "metadata": {},
   "outputs": [],
   "source": [
    "\n",
    "# Define an urban region to test the function\n",
    "\n",
    "urban_region = ee.Geometry.Polygon(\n",
    "[-88.66173511290759,42.18796899676144,\n",
    "  -88.58483081603259,41.63200862139874,\n",
    "  -88.39806323790759,41.37282825888678,\n",
    "  -87.52465015197009,41.37695033374023,\n",
    "  -87.52465015197009,41.69766697753461,\n",
    "  -87.50267749572009,41.738669446161744,\n",
    "  -87.64549976134509,42.037194621449935,\n",
    "  -87.80480151915759,42.27338406127144,\n",
    "  -87.79381519103259,42.492491901277525,\n",
    "  -88.44200855040759,42.492491901277525,\n",
    "  -88.66173511290759,42.18796899676144]\n",
    ")\n"
   ]
  },
  {
   "cell_type": "code",
   "execution_count": 4,
   "metadata": {},
   "outputs": [
    {
     "data": {
      "text/plain": [
       "0.05903345928770684"
      ]
     },
     "execution_count": 4,
     "metadata": {},
     "output_type": "execute_result"
    }
   ],
   "source": [
    "imperv_change(urban_region).getInfo()"
   ]
  },
  {
   "cell_type": "markdown",
   "metadata": {},
   "source": [
    "### Find coordinate files and read into Python"
   ]
  },
  {
   "cell_type": "code",
   "execution_count": 5,
   "metadata": {},
   "outputs": [
    {
     "data": {
      "text/plain": [
       "['data_out/csa_wkt/Charlotte-Concord, NC-SC.txt',\n",
       " 'data_out/csa_wkt/Seattle-Tacoma, WA.txt',\n",
       " 'data_out/csa_wkt/Philadelphia-Reading-Camden, PA-NJ-DE-MD.txt',\n",
       " 'data_out/csa_wkt/Boston-Worcester-Providence, MA-RI-NH-CT.txt',\n",
       " 'data_out/csa_wkt/New York-Newark, NY-NJ-CT-PA.txt',\n",
       " 'data_out/csa_wkt/Chicago-Naperville, IL-IN-WI.txt',\n",
       " 'data_out/csa_wkt/Detroit-Warren-Ann Arbor, MI.txt',\n",
       " 'data_out/csa_wkt/San Jose-San Francisco-Oakland, CA.txt',\n",
       " 'data_out/csa_wkt/Minneapolis-St. Paul, MN-WI.txt',\n",
       " 'data_out/csa_wkt/Miami-Fort Lauderdale-Port St. Lucie, FL.txt',\n",
       " 'data_out/csa_wkt/St. Louis-St. Charles-Farmington, MO-IL.txt',\n",
       " 'data_out/csa_wkt/Washington-Baltimore-Arlington, DC-MD-VA-WV-PA.txt',\n",
       " 'data_out/csa_wkt/Orlando-Deltona-Daytona Beach, FL.txt',\n",
       " 'data_out/csa_wkt/Los Angeles-Long Beach, CA.txt',\n",
       " 'data_out/csa_wkt/Pittsburgh-New Castle-Weirton, PA-OH-WV.txt',\n",
       " 'data_out/csa_wkt/Portland-Vancouver-Salem, OR-WA.txt',\n",
       " 'data_out/csa_wkt/Houston-The Woodlands, TX.txt',\n",
       " 'data_out/csa_wkt/Dallas-Fort Worth, TX-OK.txt']"
      ]
     },
     "execution_count": 5,
     "metadata": {},
     "output_type": "execute_result"
    }
   ],
   "source": [
    "import os\n",
    "coord_directory = \"data_out/csa_wkt\"\n",
    "files           = os.listdir( coord_directory)\n",
    "files           = np.array( files)[ [f.endswith(\".txt\") for f in files] ]\n",
    "paths           = [coord_directory + \"/\" + f for f in files]\n",
    "paths\n"
   ]
  },
  {
   "cell_type": "markdown",
   "metadata": {},
   "source": [
    "### Loop over input files, creating geometries and running imperviousness function"
   ]
  },
  {
   "cell_type": "code",
   "execution_count": 6,
   "metadata": {},
   "outputs": [
    {
     "name": "stdout",
     "output_type": "stream",
     "text": [
      "Running file 0 ( data_out/csa_wkt/Charlotte-Concord, NC-SC.txt )\n",
      "Running file 1 ( data_out/csa_wkt/Seattle-Tacoma, WA.txt )\n",
      "Running file 2 ( data_out/csa_wkt/Philadelphia-Reading-Camden, PA-NJ-DE-MD.txt )\n",
      "Running file 3 ( data_out/csa_wkt/Boston-Worcester-Providence, MA-RI-NH-CT.txt )\n",
      "Running file 4 ( data_out/csa_wkt/New York-Newark, NY-NJ-CT-PA.txt )\n",
      "Running file 5 ( data_out/csa_wkt/Chicago-Naperville, IL-IN-WI.txt )\n",
      "Running file 6 ( data_out/csa_wkt/Detroit-Warren-Ann Arbor, MI.txt )\n",
      "Running file 7 ( data_out/csa_wkt/San Jose-San Francisco-Oakland, CA.txt )\n",
      "Running file 8 ( data_out/csa_wkt/Minneapolis-St. Paul, MN-WI.txt )\n",
      "Running file 9 ( data_out/csa_wkt/Miami-Fort Lauderdale-Port St. Lucie, FL.txt )\n",
      "Running file 10 ( data_out/csa_wkt/St. Louis-St. Charles-Farmington, MO-IL.txt )\n",
      "Running file 11 ( data_out/csa_wkt/Washington-Baltimore-Arlington, DC-MD-VA-WV-PA.txt )\n",
      "Running file 12 ( data_out/csa_wkt/Orlando-Deltona-Daytona Beach, FL.txt )\n",
      "Running file 13 ( data_out/csa_wkt/Los Angeles-Long Beach, CA.txt )\n",
      "Running file 14 ( data_out/csa_wkt/Pittsburgh-New Castle-Weirton, PA-OH-WV.txt )\n",
      "Running file 15 ( data_out/csa_wkt/Portland-Vancouver-Salem, OR-WA.txt )\n",
      "Running file 16 ( data_out/csa_wkt/Houston-The Woodlands, TX.txt )\n",
      "Running file 17 ( data_out/csa_wkt/Dallas-Fort Worth, TX-OK.txt )\n"
     ]
    }
   ],
   "source": [
    "change   = np.array([])\n",
    "csa_name = np.array([])\n",
    "\n",
    "# Loop over input files. Create earth engine geometry, run imperv_change function over\n",
    "# this geometry, export imperviousness change and CSA name\n",
    "\n",
    "for i in range(0,len(paths)):\n",
    "    \n",
    "    print( \"Running file \" + str(i) + \" (\", paths[i], \")\")\n",
    "    \n",
    "    f = open( paths[i], 'r')\n",
    "    urban_geometry_raw = f.read()\n",
    "    urban_geometry     = [ float(n) for n in urban_geometry_raw.split()]\n",
    "    urban_geometry_ee  = ee.Geometry.Polygon(urban_geometry)\n",
    "\n",
    "    change = np.append( change, imperv_change( urban_geometry_ee ).getInfo() )\n",
    "    csa_name = np.append( csa_name, files[i].split(', ')[0] )\n",
    "    "
   ]
  },
  {
   "cell_type": "code",
   "execution_count": 7,
   "metadata": {},
   "outputs": [
    {
     "data": {
      "text/plain": [
       "array([0.02259457, 0.00658724, 0.02069067, 0.02161341, 0.02014194,\n",
       "       0.02753243, 0.01414824, 0.00889902, 0.01651396, 0.01499798,\n",
       "       0.01156153, 0.01513019, 0.02403795, 0.00872231, 0.01144897,\n",
       "       0.0036172 , 0.02840517, 0.01946746])"
      ]
     },
     "execution_count": 7,
     "metadata": {},
     "output_type": "execute_result"
    }
   ],
   "source": [
    "change"
   ]
  },
  {
   "cell_type": "code",
   "execution_count": 8,
   "metadata": {},
   "outputs": [
    {
     "data": {
      "text/plain": [
       "array(['Charlotte-Concord', 'Seattle-Tacoma',\n",
       "       'Philadelphia-Reading-Camden', 'Boston-Worcester-Providence',\n",
       "       'New York-Newark', 'Chicago-Naperville',\n",
       "       'Detroit-Warren-Ann Arbor', 'San Jose-San Francisco-Oakland',\n",
       "       'Minneapolis-St. Paul', 'Miami-Fort Lauderdale-Port St. Lucie',\n",
       "       'St. Louis-St. Charles-Farmington',\n",
       "       'Washington-Baltimore-Arlington', 'Orlando-Deltona-Daytona Beach',\n",
       "       'Los Angeles-Long Beach', 'Pittsburgh-New Castle-Weirton',\n",
       "       'Portland-Vancouver-Salem', 'Houston-The Woodlands',\n",
       "       'Dallas-Fort Worth'], dtype='<U36')"
      ]
     },
     "execution_count": 8,
     "metadata": {},
     "output_type": "execute_result"
    }
   ],
   "source": [
    "csa_name\n"
   ]
  },
  {
   "cell_type": "code",
   "execution_count": 12,
   "metadata": {},
   "outputs": [
    {
     "data": {
      "text/html": [
       "<div>\n",
       "<style scoped>\n",
       "    .dataframe tbody tr th:only-of-type {\n",
       "        vertical-align: middle;\n",
       "    }\n",
       "\n",
       "    .dataframe tbody tr th {\n",
       "        vertical-align: top;\n",
       "    }\n",
       "\n",
       "    .dataframe thead th {\n",
       "        text-align: right;\n",
       "    }\n",
       "</style>\n",
       "<table border=\"1\" class=\"dataframe\">\n",
       "  <thead>\n",
       "    <tr style=\"text-align: right;\">\n",
       "      <th></th>\n",
       "      <th>csa_name</th>\n",
       "      <th>change</th>\n",
       "    </tr>\n",
       "  </thead>\n",
       "  <tbody>\n",
       "    <tr>\n",
       "      <th>0</th>\n",
       "      <td>Charlotte-Concord</td>\n",
       "      <td>0.022595</td>\n",
       "    </tr>\n",
       "    <tr>\n",
       "      <th>1</th>\n",
       "      <td>Seattle-Tacoma</td>\n",
       "      <td>0.006587</td>\n",
       "    </tr>\n",
       "    <tr>\n",
       "      <th>2</th>\n",
       "      <td>Philadelphia-Reading-Camden</td>\n",
       "      <td>0.020691</td>\n",
       "    </tr>\n",
       "    <tr>\n",
       "      <th>3</th>\n",
       "      <td>Boston-Worcester-Providence</td>\n",
       "      <td>0.021613</td>\n",
       "    </tr>\n",
       "    <tr>\n",
       "      <th>4</th>\n",
       "      <td>New York-Newark</td>\n",
       "      <td>0.020142</td>\n",
       "    </tr>\n",
       "    <tr>\n",
       "      <th>5</th>\n",
       "      <td>Chicago-Naperville</td>\n",
       "      <td>0.027532</td>\n",
       "    </tr>\n",
       "    <tr>\n",
       "      <th>6</th>\n",
       "      <td>Detroit-Warren-Ann Arbor</td>\n",
       "      <td>0.014148</td>\n",
       "    </tr>\n",
       "    <tr>\n",
       "      <th>7</th>\n",
       "      <td>San Jose-San Francisco-Oakland</td>\n",
       "      <td>0.008899</td>\n",
       "    </tr>\n",
       "    <tr>\n",
       "      <th>8</th>\n",
       "      <td>Minneapolis-St. Paul</td>\n",
       "      <td>0.016514</td>\n",
       "    </tr>\n",
       "    <tr>\n",
       "      <th>9</th>\n",
       "      <td>Miami-Fort Lauderdale-Port St. Lucie</td>\n",
       "      <td>0.014998</td>\n",
       "    </tr>\n",
       "    <tr>\n",
       "      <th>10</th>\n",
       "      <td>St. Louis-St. Charles-Farmington</td>\n",
       "      <td>0.011562</td>\n",
       "    </tr>\n",
       "    <tr>\n",
       "      <th>11</th>\n",
       "      <td>Washington-Baltimore-Arlington</td>\n",
       "      <td>0.015130</td>\n",
       "    </tr>\n",
       "    <tr>\n",
       "      <th>12</th>\n",
       "      <td>Orlando-Deltona-Daytona Beach</td>\n",
       "      <td>0.024038</td>\n",
       "    </tr>\n",
       "    <tr>\n",
       "      <th>13</th>\n",
       "      <td>Los Angeles-Long Beach</td>\n",
       "      <td>0.008722</td>\n",
       "    </tr>\n",
       "    <tr>\n",
       "      <th>14</th>\n",
       "      <td>Pittsburgh-New Castle-Weirton</td>\n",
       "      <td>0.011449</td>\n",
       "    </tr>\n",
       "    <tr>\n",
       "      <th>15</th>\n",
       "      <td>Portland-Vancouver-Salem</td>\n",
       "      <td>0.003617</td>\n",
       "    </tr>\n",
       "    <tr>\n",
       "      <th>16</th>\n",
       "      <td>Houston-The Woodlands</td>\n",
       "      <td>0.028405</td>\n",
       "    </tr>\n",
       "    <tr>\n",
       "      <th>17</th>\n",
       "      <td>Dallas-Fort Worth</td>\n",
       "      <td>0.019467</td>\n",
       "    </tr>\n",
       "  </tbody>\n",
       "</table>\n",
       "</div>"
      ],
      "text/plain": [
       "                                csa_name    change\n",
       "0                      Charlotte-Concord  0.022595\n",
       "1                         Seattle-Tacoma  0.006587\n",
       "2            Philadelphia-Reading-Camden  0.020691\n",
       "3            Boston-Worcester-Providence  0.021613\n",
       "4                        New York-Newark  0.020142\n",
       "5                     Chicago-Naperville  0.027532\n",
       "6               Detroit-Warren-Ann Arbor  0.014148\n",
       "7         San Jose-San Francisco-Oakland  0.008899\n",
       "8                   Minneapolis-St. Paul  0.016514\n",
       "9   Miami-Fort Lauderdale-Port St. Lucie  0.014998\n",
       "10      St. Louis-St. Charles-Farmington  0.011562\n",
       "11        Washington-Baltimore-Arlington  0.015130\n",
       "12         Orlando-Deltona-Daytona Beach  0.024038\n",
       "13                Los Angeles-Long Beach  0.008722\n",
       "14         Pittsburgh-New Castle-Weirton  0.011449\n",
       "15              Portland-Vancouver-Salem  0.003617\n",
       "16                 Houston-The Woodlands  0.028405\n",
       "17                     Dallas-Fort Worth  0.019467"
      ]
     },
     "execution_count": 12,
     "metadata": {},
     "output_type": "execute_result"
    }
   ],
   "source": [
    "output_file = pd.DataFrame( {\"csa_name\": csa_name,\n",
    "                             \"change\":   change})\n",
    "output_file\n"
   ]
  },
  {
   "cell_type": "code",
   "execution_count": 16,
   "metadata": {},
   "outputs": [],
   "source": [
    "output_file.to_csv( \"data_out/csa_imperv_change.csv\", index=False)"
   ]
  }
 ],
 "metadata": {
  "kernelspec": {
   "display_name": "Python 3",
   "language": "python",
   "name": "python3"
  },
  "language_info": {
   "codemirror_mode": {
    "name": "ipython",
    "version": 3
   },
   "file_extension": ".py",
   "mimetype": "text/x-python",
   "name": "python",
   "nbconvert_exporter": "python",
   "pygments_lexer": "ipython3",
   "version": "3.6.5"
  }
 },
 "nbformat": 4,
 "nbformat_minor": 2
}
